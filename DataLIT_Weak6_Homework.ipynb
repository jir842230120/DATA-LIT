{
  "nbformat": 4,
  "nbformat_minor": 0,
  "metadata": {
    "colab": {
      "name": "DataLIT_Weak6_Homework.ipynb",
      "version": "0.3.2",
      "provenance": [],
      "collapsed_sections": []
    },
    "kernelspec": {
      "name": "python3",
      "display_name": "Python 3"
    }
  },
  "cells": [
    {
      "metadata": {
        "id": "DhH-dx3EPGgi",
        "colab_type": "code",
        "colab": {}
      },
      "cell_type": "code",
      "source": [
        "pip install Quandl"
      ],
      "execution_count": 0,
      "outputs": []
    },
    {
      "metadata": {
        "id": "Q2JFiMQnb4D4",
        "colab_type": "text"
      },
      "cell_type": "markdown",
      "source": [
        "# **Import Libraries**"
      ]
    },
    {
      "metadata": {
        "id": "M2iSg3vvzFdM",
        "colab_type": "code",
        "colab": {}
      },
      "cell_type": "code",
      "source": [
        "import numpy as np\n",
        "import pandas as pd\n",
        "import matplotlib.pyplot as plt\n",
        "from matplotlib import style\n",
        "from sklearn.linear_model import LinearRegression\n",
        "from sklearn.model_selection import train_test_split\n",
        "import datetime\n",
        "from IPython.core.pylabtools import figsize\n",
        "from IPython.display import clear_output\n",
        "import quandl\n",
        "import warnings"
      ],
      "execution_count": 0,
      "outputs": []
    },
    {
      "metadata": {
        "id": "EmjayTtEYxZo",
        "colab_type": "code",
        "colab": {}
      },
      "cell_type": "code",
      "source": [
        "\n",
        "start_date = datetime.date(2017,1,3)\n",
        "end_date = datetime.date.today()\n",
        " \n",
        "quandl.ApiConfig.api_key = \"5VmKMXS2uFoyvs3t6y6M\""
      ],
      "execution_count": 0,
      "outputs": []
    },
    {
      "metadata": {
        "id": "aDOQzS0KDxl-",
        "colab_type": "text"
      },
      "cell_type": "markdown",
      "source": [
        "# Get Data of QUANDL\n",
        "\n",
        "I choose the Wald Disney Company\n",
        "\n",
        "[Data in QUANDL](https://www.quandl.com/data/EOD/DIS-The-Walt-Disney-Company-DIS-Stock-Prices-Dividends-and-Splits)"
      ]
    },
    {
      "metadata": {
        "id": "gylx8nNZP0GS",
        "colab_type": "code",
        "colab": {}
      },
      "cell_type": "code",
      "source": [
        "#Get Data From Quandl\n",
        "\n",
        "df = quandl.get(\"EOD/DIS\", authtoken=\"5VmKMXS2uFoyvs3t6y6M\", start_date=start_date, end_date=end_date, collapse=\"daily\")\n",
        "\n",
        "df = df.reset_index()\n",
        "prices = df['Close'].tolist()\n",
        "dates = df.index.tolist()\n",
        "\n",
        "#Convert to 1d Vector\n",
        "dates = np.reshape(dates, (len(dates), 1))\n",
        "prices = np.reshape(prices, (len(prices), 1))\n"
      ],
      "execution_count": 0,
      "outputs": []
    },
    {
      "metadata": {
        "id": "yHWa37UnZgQm",
        "colab_type": "text"
      },
      "cell_type": "markdown",
      "source": [
        "# Python script that uses linear regression to predict the price of a stock"
      ]
    },
    {
      "metadata": {
        "id": "SHwF7PvOSrxU",
        "colab_type": "code",
        "colab": {
          "base_uri": "https://localhost:8080/",
          "height": 363
        },
        "outputId": "349d0726-3f12-49e3-f0df-6eb3bd014a8c"
      },
      "cell_type": "code",
      "source": [
        "#Define Linear Regressor Object\n",
        "reg = LinearRegression().fit(dates, prices)\n",
        "print(reg.score(dates, prices))\n",
        " \n",
        "#Visualize Results\n",
        "plt.scatter(dates, prices, color='green', label= 'Actual Price') #plotting the initial datapoints\n",
        "plt.plot(dates, reg.predict(dates), color='blue', linewidth=3, label = 'Predicted Price') #plotting the line made by linear regression\n",
        "plt.title('Linear Regression | Time vs. Price')\n",
        "plt.legend()\n",
        "plt.xlabel('Date Integer')\n",
        "plt.show()\n",
        "\n",
        "#Predict Price on Given Date\n",
        "date = np.array([[700]])\n",
        "predicted_price = reg.predict(date) \n",
        "\n",
        "print(\"Value Predict in Date Nro [700] :  \" + str(predicted_price[0][0]))\n",
        "print(\"Regression Coheficient:  \" + str(reg.coef_[0][0]))\n",
        "print(\"Value Intercep:  \" + str(reg.intercept_[0]))\n",
        "\n"
      ],
      "execution_count": 43,
      "outputs": [
        {
          "output_type": "stream",
          "text": [
            "0.09293178853738926\n"
          ],
          "name": "stdout"
        },
        {
          "output_type": "display_data",
          "data": {
            "image/png": "[encoded data removed]",
            "text/plain": [
              "<Figure size 432x288 with 1 Axes>"
            ]
          },
          "metadata": {
            "tags": []
          }
        },
        {
          "output_type": "stream",
          "text": [
            "Value Predict in Date Nro [700] :  111.98857281255891\n",
            "Regression Coheficient:  0.009739064036979881\n",
            "Value Intercep:  105.171227986673\n"
          ],
          "name": "stdout"
        }
      ]
    }
  ]
}